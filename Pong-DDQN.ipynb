{
  "nbformat": 4,
  "nbformat_minor": 0,
  "metadata": {
    "colab": {
      "provenance": [],
      "gpuType": "A100"
    },
    "kernelspec": {
      "name": "python3",
      "display_name": "Python 3"
    },
    "language_info": {
      "name": "python"
    },
    "accelerator": "GPU"
  },
  "cells": [
    {
      "cell_type": "code",
      "execution_count": null,
      "metadata": {
        "colab": {
          "base_uri": "https://localhost:8080/"
        },
        "id": "czeQHAtWi23U",
        "outputId": "cdb2265b-7bf2-4969-c64c-b78bb8a47847"
      },
      "outputs": [
        {
          "output_type": "stream",
          "name": "stdout",
          "text": [
            "Fri Feb 28 17:12:37 2025       \n",
            "+-----------------------------------------------------------------------------------------+\n",
            "| NVIDIA-SMI 550.54.15              Driver Version: 550.54.15      CUDA Version: 12.4     |\n",
            "|-----------------------------------------+------------------------+----------------------+\n",
            "| GPU  Name                 Persistence-M | Bus-Id          Disp.A | Volatile Uncorr. ECC |\n",
            "| Fan  Temp   Perf          Pwr:Usage/Cap |           Memory-Usage | GPU-Util  Compute M. |\n",
            "|                                         |                        |               MIG M. |\n",
            "|=========================================+========================+======================|\n",
            "|   0  NVIDIA A100-SXM4-40GB          Off |   00000000:00:04.0 Off |                    0 |\n",
            "| N/A   37C    P0             43W /  400W |       0MiB /  40960MiB |      0%      Default |\n",
            "|                                         |                        |             Disabled |\n",
            "+-----------------------------------------+------------------------+----------------------+\n",
            "                                                                                         \n",
            "+-----------------------------------------------------------------------------------------+\n",
            "| Processes:                                                                              |\n",
            "|  GPU   GI   CI        PID   Type   Process name                              GPU Memory |\n",
            "|        ID   ID                                                               Usage      |\n",
            "|=========================================================================================|\n",
            "|  No running processes found                                                             |\n",
            "+-----------------------------------------------------------------------------------------+\n"
          ]
        }
      ],
      "source": [
        "!nvidia-smi"
      ]
    },
    {
      "cell_type": "code",
      "source": [
        "import gym\n",
        "import math\n",
        "import matplotlib.pyplot as plt\n",
        "import matplotlib\n",
        "from collections import namedtuple, deque\n",
        "from itertools import count\n",
        "import torch\n",
        "import torch.nn as nn\n",
        "import torch.optim as optim\n",
        "import torch.nn.functional as F\n",
        "import random\n",
        "from gym import spaces\n",
        "import numpy as np\n",
        "import pickle\n",
        "from IPython.display import display, clear_output\n",
        "from matplotlib import animation\n",
        "from IPython import display as ipythondisplay\n",
        "import os\n",
        "\n",
        "is_ipython_env = 'inline' in matplotlib.get_backend()\n",
        "if is_ipython_env:\n",
        "    from IPython.display import display, clear_output\n",
        "\n",
        "plt.ion()\n",
        "\n",
        "\n",
        "compute_device = torch.device(\"cuda\" if torch.cuda.is_available() else \"cpu\")\n"
      ],
      "metadata": {
        "id": "7jp6wX6Ai7gx"
      },
      "execution_count": null,
      "outputs": []
    },
    {
      "cell_type": "code",
      "source": [
        "def save_checkpoint(state, filename=\"checkpoint.pth\"):\n",
        "    torch.save(state, filename)\n",
        "\n",
        "def load_checkpoint(filename=\"checkpoint.pth\"):\n",
        "    if os.path.isfile(filename):\n",
        "        state = torch.load(filename)\n",
        "        print(\"Loaded checkpoint '{}'\" .format(filename))\n",
        "        return state\n",
        "    else:\n",
        "        print(\"No checkpoint found at '{}'\" .format(filename))\n",
        "        return None\n",
        "\n",
        "def display_rewards(show_final=False):\n",
        "    plt.figure(1)\n",
        "    plt.clf()\n",
        "    plt.title('Results' if show_final else 'Training Progress')\n",
        "    plt.xlabel('Episode')\n",
        "    plt.ylabel('Total Reward')\n",
        "    plt.plot(torch.tensor(total_rewards, dtype=torch.float).numpy())\n",
        "    if len(total_rewards) >= 50:\n",
        "        rolling_mean = torch.tensor(total_rewards, dtype=torch.float).unfold(0, 50, 1).mean(1).view(-1)\n",
        "        rolling_mean = torch.cat((torch.full((49,), -21), rolling_mean))\n",
        "        plt.plot(rolling_mean.numpy())\n",
        "    plt.pause(0.001)\n",
        "    if is_ipython_env and not show_final:\n",
        "        display(plt.gcf())\n",
        "        clear_output(wait=True)\n",
        "    elif show_final:\n",
        "        display(plt.gcf())"
      ],
      "metadata": {
        "id": "3zqIWq25jEx4"
      },
      "execution_count": null,
      "outputs": []
    },
    {
      "cell_type": "code",
      "source": [
        "\n",
        "def refine_frame(frame):\n",
        "    frame = frame[6:189]\n",
        "    frame = frame[::2, ::2]\n",
        "    frame = frame.astype(np.float32) / 255.0\n",
        "    frame = np.transpose(frame, (2, 0, 1))\n",
        "    return torch.from_numpy(frame).to(compute_device)\n",
        "\n",
        "def assemble_state(frames):\n",
        "    state = torch.cat(tuple(frames), dim=0)\n",
        "    state = state.unsqueeze(0)\n",
        "    return state\n",
        "\n",
        "\n",
        "# Defining the convolutionlayer. Since we are stacking frames hence for three frames 3 frames and 3 RGB channels 9 is used\n",
        "class ConvDQN(nn.Module):\n",
        "    def __init__(self, height, width, action_count):\n",
        "        super(ConvDQN, self).__init__()\n",
        "        self.conv1 = nn.Conv2d(9, 32, kernel_size=5, stride=2)\n",
        "        self.bn1 = nn.BatchNorm2d(32)\n",
        "        self.conv2 = nn.Conv2d(32, 32, kernel_size=5, stride=2)\n",
        "        self.bn2 = nn.BatchNorm2d(32)\n",
        "\n",
        "\n",
        "        def compute_conv_output_size(size, kernel_size=5, stride=2):\n",
        "            return (size - (kernel_size - 1) - 1) // stride + 1\n",
        "        conv_width = compute_conv_output_size(compute_conv_output_size(width))\n",
        "        conv_height = compute_conv_output_size(compute_conv_output_size(height))\n",
        "        linear_input_size = conv_width * conv_height * 32\n",
        "#         print(\"Expected input size to fc1:\", linear_input_size)\n",
        "        self.fc1 = nn.Linear(linear_input_size, 512)\n",
        "        self.fc2 = nn.Linear(512, action_count)\n",
        "\n",
        "    def forward(self, x):\n",
        "        x = F.relu(self.bn1(self.conv1(x)))\n",
        "        x = F.relu(self.bn2(self.conv2(x)))\n",
        "        x = x.view(x.size(0), -1)\n",
        "#         print(\"Actual size before fc1:\", x.shape)\n",
        "        x = F.relu(self.fc1(x))\n",
        "        return self.fc2(x)\n",
        "\n",
        "\n",
        "\n",
        "\n",
        "Transition = namedtuple('Transition', ('state', 'action', 'next_state', 'reward'))\n",
        "\n",
        "def choose_action(state, eps_threshold):\n",
        "    global steps_taken\n",
        "    random_sample = random.random()\n",
        "    if random_sample > eps_threshold:\n",
        "        with torch.no_grad():\n",
        "            return strategy_net(state).max(1)[1].view(1, 1)\n",
        "    else:\n",
        "        return torch.tensor([[random.randrange(action_space_size)]], device=compute_device, dtype=torch.long)\n",
        "\n",
        "\n",
        "\n",
        "class ExperienceReplay(object):\n",
        "    def __init__(self, capacity):\n",
        "        self.memory = deque([], maxlen=capacity)\n",
        "\n",
        "    def add(self, *args):\n",
        "        self.memory.append(Transition(*args))\n",
        "\n",
        "    def sample_batch(self, batch_size):\n",
        "        return random.sample(self.memory, batch_size)\n",
        "\n",
        "    def __len__(self):\n",
        "        return len(self.memory)\n",
        "\n",
        "\n",
        "\n",
        "def refine_model():\n",
        "    if len(memory_bank) < batch_size:\n",
        "        return\n",
        "    sampled_transitions = memory_bank.sample_batch(batch_size)\n",
        "    batch = Transition(*zip(*sampled_transitions))\n",
        "\n",
        "    non_terminal_mask = torch.tensor(tuple(map(lambda s: s is not None, batch.next_state)), device=compute_device, dtype=torch.bool)\n",
        "    non_terminal_next_states = torch.cat([s for s in batch.next_state if s is not None])\n",
        "    state_batch = torch.cat(batch.state)\n",
        "    action_batch = torch.cat(batch.action)\n",
        "    reward_batch = torch.cat(batch.reward)\n",
        "\n",
        "    current_q_values = strategy_net(state_batch).gather(1, action_batch)\n",
        "    next_q_values = torch.zeros(batch_size, device=compute_device)\n",
        "    next_q_values[non_terminal_mask] = target_net(non_terminal_next_states).max(1)[0].detach()\n",
        "    expected_q_values = (next_q_values * discount_factor) + reward_batch\n",
        "\n",
        "    loss = nn.SmoothL1Loss()(current_q_values, expected_q_values.unsqueeze(1))\n",
        "    optimizer.zero_grad()\n",
        "    loss.backward()\n",
        "    optimizer.step()\n"
      ],
      "metadata": {
        "id": "QGmNH4Q_jJfH"
      },
      "execution_count": null,
      "outputs": []
    },
    {
      "cell_type": "code",
      "source": [
        "gym.__version__"
      ],
      "metadata": {
        "colab": {
          "base_uri": "https://localhost:8080/",
          "height": 35
        },
        "id": "ZLLtOakFjLRs",
        "outputId": "e96363c6-a578-48c1-a3cb-6b3805294f8f"
      },
      "execution_count": null,
      "outputs": [
        {
          "output_type": "execute_result",
          "data": {
            "text/plain": [
              "'0.26.2'"
            ],
            "application/vnd.google.colaboratory.intrinsic+json": {
              "type": "string"
            }
          },
          "metadata": {},
          "execution_count": 4
        }
      ]
    },
    {
      "cell_type": "code",
      "source": [
        "#!pip install gym[atari]\n",
        "!pip install autorom[accept-rom-license]"
      ],
      "metadata": {
        "colab": {
          "base_uri": "https://localhost:8080/"
        },
        "id": "VTGvD50ljcrc",
        "outputId": "0c2f9d77-4ff4-4e18-ec13-721bfca3897d"
      },
      "execution_count": null,
      "outputs": [
        {
          "output_type": "stream",
          "name": "stdout",
          "text": [
            "Collecting autorom[accept-rom-license]\n",
            "  Using cached AutoROM-0.6.1-py3-none-any.whl.metadata (2.4 kB)\n",
            "Requirement already satisfied: click in /usr/local/lib/python3.11/dist-packages (from autorom[accept-rom-license]) (8.1.8)\n",
            "Requirement already satisfied: requests in /usr/local/lib/python3.11/dist-packages (from autorom[accept-rom-license]) (2.32.3)\n",
            "Collecting AutoROM.accept-rom-license (from autorom[accept-rom-license])\n",
            "  Using cached AutoROM.accept-rom-license-0.6.1.tar.gz (434 kB)\n",
            "  Installing build dependencies ... \u001b[?25l\u001b[?25hdone\n",
            "  Getting requirements to build wheel ... \u001b[?25l\u001b[?25hdone\n",
            "  Preparing metadata (pyproject.toml) ... \u001b[?25l\u001b[?25hdone\n",
            "Requirement already satisfied: charset-normalizer<4,>=2 in /usr/local/lib/python3.11/dist-packages (from requests->autorom[accept-rom-license]) (3.4.1)\n",
            "Requirement already satisfied: idna<4,>=2.5 in /usr/local/lib/python3.11/dist-packages (from requests->autorom[accept-rom-license]) (3.10)\n",
            "Requirement already satisfied: urllib3<3,>=1.21.1 in /usr/local/lib/python3.11/dist-packages (from requests->autorom[accept-rom-license]) (2.3.0)\n",
            "Requirement already satisfied: certifi>=2017.4.17 in /usr/local/lib/python3.11/dist-packages (from requests->autorom[accept-rom-license]) (2025.1.31)\n",
            "Using cached AutoROM-0.6.1-py3-none-any.whl (9.4 kB)\n",
            "Building wheels for collected packages: AutoROM.accept-rom-license\n",
            "  Building wheel for AutoROM.accept-rom-license (pyproject.toml) ... \u001b[?25l\u001b[?25hdone\n",
            "  Created wheel for AutoROM.accept-rom-license: filename=autorom_accept_rom_license-0.6.1-py3-none-any.whl size=446673 sha256=bc8ac87f37aabc9e20b375fc13de399e19f6bde7d8960f388c2833211224e65d\n",
            "  Stored in directory: /root/.cache/pip/wheels/bc/fc/c6/8aa657c0d2089982f2dabd110efc68c61eb49831fdb7397351\n",
            "Successfully built AutoROM.accept-rom-license\n",
            "Installing collected packages: AutoROM.accept-rom-license, autorom\n",
            "Successfully installed AutoROM.accept-rom-license-0.6.1 autorom-0.6.1\n"
          ]
        }
      ]
    },
    {
      "cell_type": "code",
      "source": [
        "env = gym.make(\"Pong-v4\", render_mode=\"human\") # Pass render_mode to gym.make\n",
        "env.reset()\n",
        "initial_frame, _ = env.render() # Get initial frame using env.render\n",
        "initial_frame = refine_frame(initial_frame) # Process the initial frame\n",
        "_, frame_height, frame_width = initial_frame.shape\n",
        "\n",
        "frame_sequence = deque([initial_frame for _ in range(3)], maxlen=3)\n",
        "current_state = assemble_state(frame_sequence)\n",
        "_, _, frame_heaight, frame_width = current_state.shape\n",
        "\n",
        "\n",
        "batch_size = 64\n",
        "discount_factor = 0.995\n",
        "EPSILON_START = 1\n",
        "EPSILON_END = 0.01\n",
        "EPSILON_DECAY = 1500\n",
        "update_target_net_interval = 175\n",
        "learning_rate = 2e-5\n",
        "total_episodes = 40000\n",
        "steps_taken = 0\n",
        "\n",
        "action_space_size = env.action_space.n\n",
        "strategy_net = ConvDQN(frame_height, frame_width, action_space_size).to(compute_device)\n",
        "target_net = ConvDQN(frame_height, frame_width, action_space_size).to(compute_device)\n",
        "target_net.load_state_dict(strategy_net.state_dict())\n",
        "target_net.eval()\n",
        "optimizer = optim.AdamW(strategy_net.parameters(), lr=learning_rate)\n",
        "memory_bank = ExperienceReplay(100000)\n"
      ],
      "metadata": {
        "colab": {
          "base_uri": "https://localhost:8080/",
          "height": 490
        },
        "id": "xYX_3WvGjNYB",
        "outputId": "9ec11195-3733-467d-93d7-84d39ebbbc42"
      },
      "execution_count": null,
      "outputs": [
        {
          "output_type": "error",
          "ename": "RuntimeError",
          "evalue": "Failed to initialize SDL",
          "traceback": [
            "\u001b[0;31m---------------------------------------------------------------------------\u001b[0m",
            "\u001b[0;31mRuntimeError\u001b[0m                              Traceback (most recent call last)",
            "\u001b[0;32m<ipython-input-9-aedc4f5ab7df>\u001b[0m in \u001b[0;36m<cell line: 0>\u001b[0;34m()\u001b[0m\n\u001b[0;32m----> 1\u001b[0;31m \u001b[0menv\u001b[0m \u001b[0;34m=\u001b[0m \u001b[0mgym\u001b[0m\u001b[0;34m.\u001b[0m\u001b[0mmake\u001b[0m\u001b[0;34m(\u001b[0m\u001b[0;34m\"Pong-v4\"\u001b[0m\u001b[0;34m,\u001b[0m \u001b[0mrender_mode\u001b[0m\u001b[0;34m=\u001b[0m\u001b[0;34m\"human\"\u001b[0m\u001b[0;34m)\u001b[0m \u001b[0;31m# Pass render_mode to gym.make\u001b[0m\u001b[0;34m\u001b[0m\u001b[0;34m\u001b[0m\u001b[0m\n\u001b[0m\u001b[1;32m      2\u001b[0m \u001b[0menv\u001b[0m\u001b[0;34m.\u001b[0m\u001b[0mreset\u001b[0m\u001b[0;34m(\u001b[0m\u001b[0;34m)\u001b[0m\u001b[0;34m\u001b[0m\u001b[0;34m\u001b[0m\u001b[0m\n\u001b[1;32m      3\u001b[0m \u001b[0minitial_frame\u001b[0m\u001b[0;34m,\u001b[0m \u001b[0m_\u001b[0m \u001b[0;34m=\u001b[0m \u001b[0menv\u001b[0m\u001b[0;34m.\u001b[0m\u001b[0mrender\u001b[0m\u001b[0;34m(\u001b[0m\u001b[0;34m)\u001b[0m \u001b[0;31m# Get initial frame using env.render\u001b[0m\u001b[0;34m\u001b[0m\u001b[0;34m\u001b[0m\u001b[0m\n\u001b[1;32m      4\u001b[0m \u001b[0minitial_frame\u001b[0m \u001b[0;34m=\u001b[0m \u001b[0mrefine_frame\u001b[0m\u001b[0;34m(\u001b[0m\u001b[0minitial_frame\u001b[0m\u001b[0;34m)\u001b[0m \u001b[0;31m# Process the initial frame\u001b[0m\u001b[0;34m\u001b[0m\u001b[0;34m\u001b[0m\u001b[0m\n\u001b[1;32m      5\u001b[0m \u001b[0m_\u001b[0m\u001b[0;34m,\u001b[0m \u001b[0mframe_height\u001b[0m\u001b[0;34m,\u001b[0m \u001b[0mframe_width\u001b[0m \u001b[0;34m=\u001b[0m \u001b[0minitial_frame\u001b[0m\u001b[0;34m.\u001b[0m\u001b[0mshape\u001b[0m\u001b[0;34m\u001b[0m\u001b[0;34m\u001b[0m\u001b[0m\n",
            "\u001b[0;32m/usr/local/lib/python3.11/dist-packages/gym/envs/registration.py\u001b[0m in \u001b[0;36mmake\u001b[0;34m(id, max_episode_steps, autoreset, apply_api_compatibility, disable_env_checker, **kwargs)\u001b[0m\n\u001b[1;32m    638\u001b[0m \u001b[0;34m\u001b[0m\u001b[0m\n\u001b[1;32m    639\u001b[0m     \u001b[0;32mtry\u001b[0m\u001b[0;34m:\u001b[0m\u001b[0;34m\u001b[0m\u001b[0;34m\u001b[0m\u001b[0m\n\u001b[0;32m--> 640\u001b[0;31m         \u001b[0menv\u001b[0m \u001b[0;34m=\u001b[0m \u001b[0menv_creator\u001b[0m\u001b[0;34m(\u001b[0m\u001b[0;34m**\u001b[0m\u001b[0m_kwargs\u001b[0m\u001b[0;34m)\u001b[0m\u001b[0;34m\u001b[0m\u001b[0;34m\u001b[0m\u001b[0m\n\u001b[0m\u001b[1;32m    641\u001b[0m     \u001b[0;32mexcept\u001b[0m \u001b[0mTypeError\u001b[0m \u001b[0;32mas\u001b[0m \u001b[0me\u001b[0m\u001b[0;34m:\u001b[0m\u001b[0;34m\u001b[0m\u001b[0;34m\u001b[0m\u001b[0m\n\u001b[1;32m    642\u001b[0m         if (\n",
            "\u001b[0;32m/usr/local/lib/python3.11/dist-packages/ale_py/env/gym.py\u001b[0m in \u001b[0;36m__init__\u001b[0;34m(self, game, mode, difficulty, obs_type, frameskip, repeat_action_probability, full_action_space, max_num_frames_per_episode, render_mode)\u001b[0m\n\u001b[1;32m    153\u001b[0m \u001b[0;34m\u001b[0m\u001b[0m\n\u001b[1;32m    154\u001b[0m         \u001b[0;31m# Seed + Load\u001b[0m\u001b[0;34m\u001b[0m\u001b[0;34m\u001b[0m\u001b[0m\n\u001b[0;32m--> 155\u001b[0;31m         \u001b[0mself\u001b[0m\u001b[0;34m.\u001b[0m\u001b[0mseed\u001b[0m\u001b[0;34m(\u001b[0m\u001b[0;34m)\u001b[0m\u001b[0;34m\u001b[0m\u001b[0;34m\u001b[0m\u001b[0m\n\u001b[0m\u001b[1;32m    156\u001b[0m \u001b[0;34m\u001b[0m\u001b[0m\n\u001b[1;32m    157\u001b[0m         self._action_set = (\n",
            "\u001b[0;32m/usr/local/lib/python3.11/dist-packages/ale_py/env/gym.py\u001b[0m in \u001b[0;36mseed\u001b[0;34m(self, seed)\u001b[0m\n\u001b[1;32m    213\u001b[0m                 \u001b[0;34m\"https://github.com/mgbellemare/Arcade-Learning-Environment#rom-management\"\u001b[0m\u001b[0;34m\u001b[0m\u001b[0;34m\u001b[0m\u001b[0m\n\u001b[1;32m    214\u001b[0m             )\n\u001b[0;32m--> 215\u001b[0;31m         \u001b[0mself\u001b[0m\u001b[0;34m.\u001b[0m\u001b[0male\u001b[0m\u001b[0;34m.\u001b[0m\u001b[0mloadROM\u001b[0m\u001b[0;34m(\u001b[0m\u001b[0mgetattr\u001b[0m\u001b[0;34m(\u001b[0m\u001b[0mroms\u001b[0m\u001b[0;34m,\u001b[0m \u001b[0mself\u001b[0m\u001b[0;34m.\u001b[0m\u001b[0m_game\u001b[0m\u001b[0;34m)\u001b[0m\u001b[0;34m)\u001b[0m\u001b[0;34m\u001b[0m\u001b[0;34m\u001b[0m\u001b[0m\n\u001b[0m\u001b[1;32m    216\u001b[0m \u001b[0;34m\u001b[0m\u001b[0m\n\u001b[1;32m    217\u001b[0m         \u001b[0;32mif\u001b[0m \u001b[0mself\u001b[0m\u001b[0;34m.\u001b[0m\u001b[0m_game_mode\u001b[0m \u001b[0;32mis\u001b[0m \u001b[0;32mnot\u001b[0m \u001b[0;32mNone\u001b[0m\u001b[0;34m:\u001b[0m\u001b[0;34m\u001b[0m\u001b[0;34m\u001b[0m\u001b[0m\n",
            "\u001b[0;31mRuntimeError\u001b[0m: Failed to initialize SDL"
          ]
        }
      ]
    },
    {
      "cell_type": "code",
      "source": [],
      "metadata": {
        "id": "eW7outP6jPFQ"
      },
      "execution_count": null,
      "outputs": []
    },
    {
      "cell_type": "code",
      "source": [],
      "metadata": {
        "id": "3KycL0JMmDUx"
      },
      "execution_count": null,
      "outputs": []
    },
    {
      "cell_type": "code",
      "source": [
        "!pip install gym[atari]\n",
        "import numpy as np\n",
        "import gym"
      ],
      "metadata": {
        "colab": {
          "base_uri": "https://localhost:8080/"
        },
        "id": "glWGbInOmDSB",
        "outputId": "9ed09f58-881d-4242-f29a-7b9a0fe953c7"
      },
      "execution_count": null,
      "outputs": [
        {
          "output_type": "stream",
          "name": "stdout",
          "text": [
            "Requirement already satisfied: gym[atari] in /usr/local/lib/python3.11/dist-packages (0.25.2)\n",
            "Requirement already satisfied: numpy>=1.18.0 in /usr/local/lib/python3.11/dist-packages (from gym[atari]) (1.26.4)\n",
            "Requirement already satisfied: cloudpickle>=1.2.0 in /usr/local/lib/python3.11/dist-packages (from gym[atari]) (3.1.1)\n",
            "Requirement already satisfied: gym_notices>=0.0.4 in /usr/local/lib/python3.11/dist-packages (from gym[atari]) (0.0.8)\n",
            "INFO: pip is looking at multiple versions of gym[atari] to determine which version is compatible with other requirements. This could take a while.\n",
            "Collecting gym[atari]\n",
            "  Downloading gym-0.26.2.tar.gz (721 kB)\n",
            "\u001b[2K     \u001b[90m━━━━━━━━━━━━━━━━━━━━━━━━━━━━━━━━━━━━━━━━\u001b[0m \u001b[32m721.7/721.7 kB\u001b[0m \u001b[31m10.7 MB/s\u001b[0m eta \u001b[36m0:00:00\u001b[0m\n",
            "\u001b[?25h  Installing build dependencies ... \u001b[?25l\u001b[?25hdone\n",
            "  Getting requirements to build wheel ... \u001b[?25l\u001b[?25hdone\n",
            "  Preparing metadata (pyproject.toml) ... \u001b[?25l\u001b[?25hdone\n",
            "Collecting ale-py~=0.8.0 (from gym[atari])\n",
            "  Downloading ale_py-0.8.1-cp311-cp311-manylinux_2_17_x86_64.manylinux2014_x86_64.whl.metadata (8.1 kB)\n",
            "Requirement already satisfied: importlib-resources in /usr/local/lib/python3.11/dist-packages (from ale-py~=0.8.0->gym[atari]) (6.5.2)\n",
            "Downloading ale_py-0.8.1-cp311-cp311-manylinux_2_17_x86_64.manylinux2014_x86_64.whl (1.7 MB)\n",
            "\u001b[2K   \u001b[90m━━━━━━━━━━━━━━━━━━━━━━━━━━━━━━━━━━━━━━━━\u001b[0m \u001b[32m1.7/1.7 MB\u001b[0m \u001b[31m58.4 MB/s\u001b[0m eta \u001b[36m0:00:00\u001b[0m\n",
            "\u001b[?25hBuilding wheels for collected packages: gym\n",
            "  Building wheel for gym (pyproject.toml) ... \u001b[?25l\u001b[?25hdone\n",
            "  Created wheel for gym: filename=gym-0.26.2-py3-none-any.whl size=827697 sha256=b6b92eea74b2ef8ebfa4b72322fa6b588c188d3e815bf9d44e627e699b4e1702\n",
            "  Stored in directory: /root/.cache/pip/wheels/1c/77/9e/9af5470201a0b0543937933ee99ba884cd237d2faefe8f4d37\n",
            "Successfully built gym\n",
            "Installing collected packages: gym, ale-py\n",
            "  Attempting uninstall: gym\n",
            "    Found existing installation: gym 0.25.2\n",
            "    Uninstalling gym-0.25.2:\n",
            "      Successfully uninstalled gym-0.25.2\n",
            "  Attempting uninstall: ale-py\n",
            "    Found existing installation: ale-py 0.10.2\n",
            "    Uninstalling ale-py-0.10.2:\n",
            "      Successfully uninstalled ale-py-0.10.2\n",
            "\u001b[31mERROR: pip's dependency resolver does not currently take into account all the packages that are installed. This behaviour is the source of the following dependency conflicts.\n",
            "dopamine-rl 4.1.2 requires ale-py>=0.10.1, but you have ale-py 0.8.1 which is incompatible.\n",
            "dopamine-rl 4.1.2 requires gym<=0.25.2, but you have gym 0.26.2 which is incompatible.\u001b[0m\u001b[31m\n",
            "\u001b[0mSuccessfully installed ale-py-0.8.1 gym-0.26.2\n"
          ]
        }
      ]
    },
    {
      "cell_type": "code",
      "source": [
        "from gym import wrappers\n",
        "from gym.wrappers import RecordVideo"
      ],
      "metadata": {
        "id": "qmF0lOGvmDPJ"
      },
      "execution_count": null,
      "outputs": []
    },
    {
      "cell_type": "code",
      "source": [
        "env = gym.make(\"Pong-v0\")\n"
      ],
      "metadata": {
        "colab": {
          "base_uri": "https://localhost:8080/",
          "height": 525
        },
        "id": "EWixOE8_mDML",
        "outputId": "ddd73558-dc91-40b4-9b8b-ab028233f268"
      },
      "execution_count": null,
      "outputs": [
        {
          "output_type": "error",
          "ename": "Error",
          "evalue": "We're Unable to find the game \"Pong\". Note: Gym no longer distributes ROMs. If you own a license to use the necessary ROMs for research purposes you can download them via `pip install gym[accept-rom-license]`. Otherwise, you should try importing \"Pong\" via the command `ale-import-roms`. If you believe this is a mistake perhaps your copy of \"Pong\" is unsupported. To check if this is the case try providing the environment variable `PYTHONWARNINGS=default::ImportWarning:ale_py.roms`. For more information see: https://github.com/mgbellemare/Arcade-Learning-Environment#rom-management",
          "traceback": [
            "\u001b[0;31m---------------------------------------------------------------------------\u001b[0m",
            "\u001b[0;31mError\u001b[0m                                     Traceback (most recent call last)",
            "\u001b[0;32m<ipython-input-4-b3dd88479669>\u001b[0m in \u001b[0;36m<cell line: 0>\u001b[0;34m()\u001b[0m\n\u001b[0;32m----> 1\u001b[0;31m \u001b[0menv\u001b[0m \u001b[0;34m=\u001b[0m \u001b[0mgym\u001b[0m\u001b[0;34m.\u001b[0m\u001b[0mmake\u001b[0m\u001b[0;34m(\u001b[0m\u001b[0;34m\"Pong-v0\"\u001b[0m\u001b[0;34m)\u001b[0m\u001b[0;34m\u001b[0m\u001b[0;34m\u001b[0m\u001b[0m\n\u001b[0m",
            "\u001b[0;32m/usr/local/lib/python3.11/dist-packages/gym/envs/registration.py\u001b[0m in \u001b[0;36mmake\u001b[0;34m(id, max_episode_steps, autoreset, apply_api_compatibility, disable_env_checker, **kwargs)\u001b[0m\n\u001b[1;32m    638\u001b[0m \u001b[0;34m\u001b[0m\u001b[0m\n\u001b[1;32m    639\u001b[0m     \u001b[0;32mtry\u001b[0m\u001b[0;34m:\u001b[0m\u001b[0;34m\u001b[0m\u001b[0;34m\u001b[0m\u001b[0m\n\u001b[0;32m--> 640\u001b[0;31m         \u001b[0menv\u001b[0m \u001b[0;34m=\u001b[0m \u001b[0menv_creator\u001b[0m\u001b[0;34m(\u001b[0m\u001b[0;34m**\u001b[0m\u001b[0m_kwargs\u001b[0m\u001b[0;34m)\u001b[0m\u001b[0;34m\u001b[0m\u001b[0;34m\u001b[0m\u001b[0m\n\u001b[0m\u001b[1;32m    641\u001b[0m     \u001b[0;32mexcept\u001b[0m \u001b[0mTypeError\u001b[0m \u001b[0;32mas\u001b[0m \u001b[0me\u001b[0m\u001b[0;34m:\u001b[0m\u001b[0;34m\u001b[0m\u001b[0;34m\u001b[0m\u001b[0m\n\u001b[1;32m    642\u001b[0m         if (\n",
            "\u001b[0;32m/usr/local/lib/python3.11/dist-packages/ale_py/env/gym.py\u001b[0m in \u001b[0;36m__init__\u001b[0;34m(self, game, mode, difficulty, obs_type, frameskip, repeat_action_probability, full_action_space, max_num_frames_per_episode, render_mode)\u001b[0m\n\u001b[1;32m    153\u001b[0m \u001b[0;34m\u001b[0m\u001b[0m\n\u001b[1;32m    154\u001b[0m         \u001b[0;31m# Seed + Load\u001b[0m\u001b[0;34m\u001b[0m\u001b[0;34m\u001b[0m\u001b[0m\n\u001b[0;32m--> 155\u001b[0;31m         \u001b[0mself\u001b[0m\u001b[0;34m.\u001b[0m\u001b[0mseed\u001b[0m\u001b[0;34m(\u001b[0m\u001b[0;34m)\u001b[0m\u001b[0;34m\u001b[0m\u001b[0;34m\u001b[0m\u001b[0m\n\u001b[0m\u001b[1;32m    156\u001b[0m \u001b[0;34m\u001b[0m\u001b[0m\n\u001b[1;32m    157\u001b[0m         self._action_set = (\n",
            "\u001b[0;32m/usr/local/lib/python3.11/dist-packages/ale_py/env/gym.py\u001b[0m in \u001b[0;36mseed\u001b[0;34m(self, seed)\u001b[0m\n\u001b[1;32m    204\u001b[0m \u001b[0;34m\u001b[0m\u001b[0m\n\u001b[1;32m    205\u001b[0m         \u001b[0;32mif\u001b[0m \u001b[0;32mnot\u001b[0m \u001b[0mhasattr\u001b[0m\u001b[0;34m(\u001b[0m\u001b[0mroms\u001b[0m\u001b[0;34m,\u001b[0m \u001b[0mself\u001b[0m\u001b[0;34m.\u001b[0m\u001b[0m_game\u001b[0m\u001b[0;34m)\u001b[0m\u001b[0;34m:\u001b[0m\u001b[0;34m\u001b[0m\u001b[0;34m\u001b[0m\u001b[0m\n\u001b[0;32m--> 206\u001b[0;31m             raise error.Error(\n\u001b[0m\u001b[1;32m    207\u001b[0m                 \u001b[0;34mf'We\\'re Unable to find the game \"{self._game}\". Note: Gym no longer distributes ROMs. '\u001b[0m\u001b[0;34m\u001b[0m\u001b[0;34m\u001b[0m\u001b[0m\n\u001b[1;32m    208\u001b[0m                 \u001b[0;34mf\"If you own a license to use the necessary ROMs for research purposes you can download them \"\u001b[0m\u001b[0;34m\u001b[0m\u001b[0;34m\u001b[0m\u001b[0m\n",
            "\u001b[0;31mError\u001b[0m: We're Unable to find the game \"Pong\". Note: Gym no longer distributes ROMs. If you own a license to use the necessary ROMs for research purposes you can download them via `pip install gym[accept-rom-license]`. Otherwise, you should try importing \"Pong\" via the command `ale-import-roms`. If you believe this is a mistake perhaps your copy of \"Pong\" is unsupported. To check if this is the case try providing the environment variable `PYTHONWARNINGS=default::ImportWarning:ale_py.roms`. For more information see: https://github.com/mgbellemare/Arcade-Learning-Environment#rom-management"
          ]
        }
      ]
    },
    {
      "cell_type": "code",
      "source": [
        "print(env.action_space)\n"
      ],
      "metadata": {
        "colab": {
          "base_uri": "https://localhost:8080/"
        },
        "id": "xnIlyfyfmqAp",
        "outputId": "d28e08c8-c881-4c0e-f5db-4ad1306ede18"
      },
      "execution_count": null,
      "outputs": [
        {
          "output_type": "stream",
          "name": "stdout",
          "text": [
            "Discrete(6)\n"
          ]
        }
      ]
    },
    {
      "cell_type": "code",
      "source": [
        "print(env.get_action_meanings())\n"
      ],
      "metadata": {
        "colab": {
          "base_uri": "https://localhost:8080/"
        },
        "id": "txJ7w-plmrvM",
        "outputId": "fdd8cb61-1cdc-418e-af89-27a77276d2a2"
      },
      "execution_count": null,
      "outputs": [
        {
          "output_type": "stream",
          "name": "stdout",
          "text": [
            "['NOOP', 'FIRE', 'RIGHT', 'LEFT', 'RIGHTFIRE', 'LEFTFIRE']\n"
          ]
        }
      ]
    },
    {
      "cell_type": "code",
      "source": [
        "env = RecordVideo(env, video_folder=\"./video\", episode_trigger=lambda episode_id: True)\n"
      ],
      "metadata": {
        "id": "0PEi2mhamuCU"
      },
      "execution_count": null,
      "outputs": []
    },
    {
      "cell_type": "code",
      "source": [
        "print(env.observation_space)\n"
      ],
      "metadata": {
        "colab": {
          "base_uri": "https://localhost:8080/"
        },
        "id": "MvtMZS2umxID",
        "outputId": "6cefe756-e95e-486c-dcd3-35e25479e558"
      },
      "execution_count": null,
      "outputs": [
        {
          "output_type": "stream",
          "name": "stdout",
          "text": [
            "Box(0, 255, (210, 160, 3), uint8)\n"
          ]
        }
      ]
    },
    {
      "cell_type": "code",
      "source": [
        "import gym\n",
        "import matplotlib.pyplot as plt\n",
        "\n",
        "# Create the environment with the desired render mode\n",
        "env = gym.make(\"Pong-v0\", render_mode=\"rgb_array\")\n",
        "\n",
        "env.seed(42)\n",
        "frame = env.reset()\n",
        "\n",
        "# Now calling render() returns an rgb_array frame\n",
        "random_frame = env.render()\n",
        "print(random_frame.shape)\n",
        "plt.imshow(random_frame)\n",
        "plt.show()"
      ],
      "metadata": {
        "colab": {
          "base_uri": "https://localhost:8080/",
          "height": 508
        },
        "id": "yfXMGKbYnEg2",
        "outputId": "51514e48-6b6e-4f6d-d891-453d7b5747e8"
      },
      "execution_count": null,
      "outputs": [
        {
          "output_type": "stream",
          "name": "stderr",
          "text": [
            "/usr/local/lib/python3.11/dist-packages/gym/envs/registration.py:555: UserWarning: \u001b[33mWARN: The environment Pong-v0 is out of date. You should consider upgrading to version `v4`.\u001b[0m\n",
            "  logger.warn(\n"
          ]
        },
        {
          "output_type": "stream",
          "name": "stdout",
          "text": [
            "(210, 160, 3)\n"
          ]
        },
        {
          "output_type": "display_data",
          "data": {
            "text/plain": [
              "<Figure size 640x480 with 1 Axes>"
            ],
            "image/png": "[encoded data removed]"
          },
          "metadata": {}
        }
      ]
    },
    {
      "cell_type": "code",
      "source": [
        "def frame_preprocessing(observation_frame):\n",
        "    # Crop the frame.\n",
        "    observation_frame = observation_frame[35:195]\n",
        "    # Downsample the frame by a factor of 2.\n",
        "    observation_frame = observation_frame[::2, ::2, 0]\n",
        "    # Remove the background and apply other enhancements.\n",
        "    observation_frame[observation_frame == 144] = 0  # Erase the background (type 1).\n",
        "    observation_frame[observation_frame == 109] = 0  # Erase the background (type 2).\n",
        "    observation_frame[observation_frame != 0] = 1  # Set the items (rackets, ball) to 1.\n",
        "    # Return the preprocessed frame as a 1D floating-point array.\n",
        "    return observation_frame.astype(float)"
      ],
      "metadata": {
        "id": "Z12BnJx9nIq4"
      },
      "execution_count": null,
      "outputs": []
    },
    {
      "cell_type": "code",
      "source": [
        "preprocessed_random_frame = frame_preprocessing(random_frame)\n",
        "plt.imshow(preprocessed_random_frame, cmap=\"gray\")\n",
        "print(preprocessed_random_frame.shape)"
      ],
      "metadata": {
        "colab": {
          "base_uri": "https://localhost:8080/",
          "height": 451
        },
        "id": "43EP1K1cndby",
        "outputId": "af16c47f-dba4-4879-a007-3536cb939dca"
      },
      "execution_count": null,
      "outputs": [
        {
          "output_type": "stream",
          "name": "stdout",
          "text": [
            "(80, 80)\n"
          ]
        },
        {
          "output_type": "display_data",
          "data": {
            "text/plain": [
              "<Figure size 640x480 with 1 Axes>"
            ],
            "image/png": "[encoded data removed]"
          },
          "metadata": {}
        }
      ]
    },
    {
      "cell_type": "code",
      "source": [
        "rng = np.random.default_rng(seed=12288743)\n"
      ],
      "metadata": {
        "id": "oyUy8S23ngA3"
      },
      "execution_count": null,
      "outputs": []
    },
    {
      "cell_type": "code",
      "source": [
        "D = 80 * 80\n"
      ],
      "metadata": {
        "id": "1x5Qumzrnj-a"
      },
      "execution_count": null,
      "outputs": []
    },
    {
      "cell_type": "code",
      "source": [
        "H = 200\n"
      ],
      "metadata": {
        "id": "ZJb1c_MCnlTs"
      },
      "execution_count": null,
      "outputs": []
    },
    {
      "cell_type": "code",
      "source": [
        "model = {}\n"
      ],
      "metadata": {
        "id": "QBZcSVzQnmn1"
      },
      "execution_count": null,
      "outputs": []
    },
    {
      "cell_type": "code",
      "source": [
        "model[\"W1\"] = rng.standard_normal(size=(H, D)) / np.sqrt(D)\n",
        "model[\"W2\"] = rng.standard_normal(size=H) / np.sqrt(H)\n"
      ],
      "metadata": {
        "id": "u6qkUmg5noYG"
      },
      "execution_count": null,
      "outputs": []
    },
    {
      "cell_type": "code",
      "source": [
        "def policy_forward(x, model):\n",
        "    # Matrix-multiply the weights by the input in the one and only hidden layer.\n",
        "    h = np.dot(model[\"W1\"], x)\n",
        "    # Apply non-linearity with ReLU.\n",
        "    h[h < 0] = 0\n",
        "    # Calculate the \"dot\" product in the outer layer.\n",
        "    # The input for the sigmoid function is called logit.\n",
        "    logit = np.dot(model[\"W2\"], h)\n",
        "    # Apply the sigmoid function (non-linear activation).\n",
        "    p = sigmoid(logit)\n",
        "    # Return a log probability for the action 2 (\"move up\")\n",
        "    # and the hidden \"state\" that you need for backpropagation.\n",
        "    return p, h"
      ],
      "metadata": {
        "id": "eG-Bf0GonqXZ"
      },
      "execution_count": null,
      "outputs": []
    },
    {
      "cell_type": "code",
      "source": [
        "def sigmoid(x):\n",
        "    return 1.0 / (1.0 + np.exp(-x))"
      ],
      "metadata": {
        "id": "zti0sb0onsO3"
      },
      "execution_count": null,
      "outputs": []
    },
    {
      "cell_type": "code",
      "source": [
        "def policy_backward(eph, epdlogp, model):\n",
        "    dW2 = np.dot(eph.T, epdlogp).ravel()\n",
        "    dh = np.outer(epdlogp, model[\"W2\"])\n",
        "    dh[eph <= 0] = 0\n",
        "    dW1 = np.dot(dh.T, epx)\n",
        "    # Return new \"optimized\" weights for the policy network.\n",
        "    return {\"W1\": dW1, \"W2\": dW2}"
      ],
      "metadata": {
        "id": "XneMk7ZCnu4V"
      },
      "execution_count": null,
      "outputs": []
    },
    {
      "cell_type": "code",
      "source": [
        "# All preprocessed observations for the episode.\n",
        "xs = []\n",
        "# All hidden \"states\" (from the network) for the episode.\n",
        "hs = []\n",
        "# All gradients of probability actions\n",
        "# (with respect to observations) for the episode.\n",
        "dlogps = []\n",
        "# All rewards for the episode.\n",
        "drs = []"
      ],
      "metadata": {
        "id": "OviXXbtenwen"
      },
      "execution_count": null,
      "outputs": []
    },
    {
      "cell_type": "code",
      "source": [
        "decay_rate = 0.99\n"
      ],
      "metadata": {
        "id": "izub497dny0H"
      },
      "execution_count": null,
      "outputs": []
    },
    {
      "cell_type": "code",
      "source": [
        "grad_buffer = {k: np.zeros_like(v) for k, v in model.items()}\n"
      ],
      "metadata": {
        "id": "lSQiFqtzn1FN"
      },
      "execution_count": null,
      "outputs": []
    },
    {
      "cell_type": "code",
      "source": [
        "rmsprop_cache = {k: np.zeros_like(v) for k, v in model.items()}\n"
      ],
      "metadata": {
        "id": "dyWDOjmvn2Z0"
      },
      "execution_count": null,
      "outputs": []
    },
    {
      "cell_type": "code",
      "source": [
        "gamma = 0.99\n",
        "\n",
        "\n",
        "def discount_rewards(r, gamma):\n",
        "    discounted_r = np.zeros_like(r)\n",
        "    running_add = 0\n",
        "    # From the last reward to the first...\n",
        "    for t in reversed(range(0, r.size)):\n",
        "        # ...reset the reward sum\n",
        "        if r[t] != 0:\n",
        "            running_add = 0\n",
        "        # ...compute the discounted reward\n",
        "        running_add = running_add * gamma + r[t]\n",
        "        discounted_r[t] = running_add\n",
        "    return discounted_r"
      ],
      "metadata": {
        "id": "Ypn-ypeEn3mq"
      },
      "execution_count": null,
      "outputs": []
    },
    {
      "cell_type": "code",
      "source": [
        "max_episodes = 3\n"
      ],
      "metadata": {
        "id": "xnZzqvxbn5nT"
      },
      "execution_count": null,
      "outputs": []
    },
    {
      "cell_type": "code",
      "source": [
        "batch_size = 3\n",
        "learning_rate = 1e-4"
      ],
      "metadata": {
        "id": "2HKs_d-an8CC"
      },
      "execution_count": null,
      "outputs": []
    },
    {
      "cell_type": "code",
      "source": [
        "render = False\n",
        "observation = env.reset()\n"
      ],
      "metadata": {
        "id": "K2ed9yw6n9xs"
      },
      "execution_count": null,
      "outputs": []
    },
    {
      "cell_type": "code",
      "source": [
        "prev_x = None\n",
        "running_reward = None\n",
        "reward_sum = 0\n",
        "episode_number = 0\n",
        "\n",
        "\n",
        "def update_input(prev_x, cur_x, D):\n",
        "    if prev_x is not None:\n",
        "        x = cur_x - prev_x\n",
        "    else:\n",
        "        x = np.zeros(D)\n",
        "    return x"
      ],
      "metadata": {
        "id": "dbYk6igQoDg3"
      },
      "execution_count": null,
      "outputs": []
    },
    {
      "cell_type": "code",
      "source": [
        "# Initialize environment and variables outside the loop\n",
        "observation, info = env.reset()\n",
        "prev_x = None\n",
        "episode_number = 0\n",
        "reward_sum = 0\n",
        "\n",
        "while episode_number < max_episodes:\n",
        "    if render:\n",
        "        env.render()\n",
        "\n",
        "    # Preprocess current frame\n",
        "    cur_x = frame_preprocessing(observation).ravel()\n",
        "\n",
        "    # For the first frame, you might want to set prev_x = cur_x\n",
        "    if prev_x is None:\n",
        "        prev_x = cur_x\n",
        "\n",
        "    # Prepare input for the policy network\n",
        "    x = update_input(prev_x, cur_x, D)\n",
        "    prev_x = cur_x\n",
        "\n",
        "    # Forward pass through the policy network\n",
        "    aprob, h = policy_forward(x, model)\n",
        "\n",
        "    # Choose action based on probability\n",
        "    action = 2 if rng.uniform() < aprob else 3\n",
        "\n",
        "    # Save intermediate variables for backpropagation\n",
        "    xs.append(x)\n",
        "    hs.append(h)\n",
        "    y = 1 if action == 2 else 0  # target label\n",
        "    dlogps.append(y - aprob)\n",
        "\n",
        "    # Take action in the environment\n",
        "    observation, reward, terminated, truncated, info = env.step(action)\n",
        "    done = terminated or truncated\n",
        "\n",
        "    # Accumulate reward and store it\n",
        "    reward_sum += reward\n",
        "    drs.append(reward)\n",
        "\n",
        "    # If the episode has finished\n",
        "    if done:\n",
        "        episode_number += 1\n",
        "\n",
        "        # Stack episode data\n",
        "        epx = np.vstack(xs)\n",
        "        eph = np.vstack(hs)\n",
        "        epdlogp = np.vstack(dlogps)\n",
        "        epr = np.vstack(drs)\n",
        "\n",
        "        # Reset episode buffers\n",
        "        xs, hs, dlogps, drs = [], [], [], []\n",
        "\n",
        "        # Discount and normalize rewards\n",
        "        discounted_epr = discount_rewards(epr, gamma)\n",
        "        discounted_epr -= np.mean(discounted_epr)\n",
        "        discounted_epr /= np.std(discounted_epr)\n",
        "\n",
        "        # Ensure epdlogp and discounted_epr have the same number of rows\n",
        "        min_len = min(len(epdlogp), len(discounted_epr))\n",
        "        epdlogp = epdlogp[:min_len]\n",
        "        discounted_epr = discounted_epr[:min_len]\n",
        "\n",
        "        # Multiply gradients by the advantage\n",
        "        epdlogp *= discounted_epr\n",
        "\n",
        "        # Backpropagation and gradient accumulation\n",
        "        grad = policy_backward(eph, epdlogp, model)\n",
        "        for k in model:\n",
        "            grad_buffer[k] += grad[k]\n",
        "\n",
        "        # Update parameters every batch_size episodes\n",
        "        if episode_number % batch_size == 0:\n",
        "            for k, v in model.items():\n",
        "                g = grad_buffer[k]\n",
        "                rmsprop_cache[k] = decay_rate * rmsprop_cache[k] + (1 - decay_rate) * g ** 2\n",
        "                model[k] += learning_rate * g / (np.sqrt(rmsprop_cache[k]) + 1e-5)\n",
        "                grad_buffer[k] = np.zeros_like(v)\n",
        "\n",
        "        # Update running reward and print results\n",
        "        running_reward = reward_sum if running_reward is None else running_reward * 0.99 + reward_sum * 0.01\n",
        "        print(\"Resetting the Pong environment. Episode total reward: {} Running mean: {}\".format(reward_sum, running_reward))\n",
        "\n",
        "        # Reset the environment and variables for the next episode\n",
        "        observation, info = env.reset()\n",
        "        prev_x = None\n",
        "        reward_sum = 0\n",
        "\n",
        "    # Optionally print when a non-zero reward is received\n",
        "    if reward != 0:\n",
        "        print(\"Episode {}: Game finished. Reward: {}...\".format(episode_number, reward) + (\"\" if reward == -1 else \" POSITIVE REWARD!\"))"
      ],
      "metadata": {
        "colab": {
          "base_uri": "https://localhost:8080/"
        },
        "id": "l_FFOsXjoMgU",
        "outputId": "304c031d-f1de-49d1-ede6-194e074f43f0"
      },
      "execution_count": null,
      "outputs": [
        {
          "output_type": "stream",
          "name": "stdout",
          "text": [
            "Episode 0: Game finished. Reward: -1.0...\n",
            "Episode 0: Game finished. Reward: -1.0...\n",
            "Episode 0: Game finished. Reward: -1.0...\n",
            "Episode 0: Game finished. Reward: -1.0...\n",
            "Episode 0: Game finished. Reward: -1.0...\n",
            "Episode 0: Game finished. Reward: -1.0...\n",
            "Episode 0: Game finished. Reward: -1.0...\n",
            "Episode 0: Game finished. Reward: -1.0...\n",
            "Episode 0: Game finished. Reward: -1.0...\n",
            "Episode 0: Game finished. Reward: -1.0...\n",
            "Episode 0: Game finished. Reward: -1.0...\n",
            "Episode 0: Game finished. Reward: -1.0...\n",
            "Episode 0: Game finished. Reward: -1.0...\n",
            "Episode 0: Game finished. Reward: -1.0...\n",
            "Episode 0: Game finished. Reward: -1.0...\n",
            "Episode 0: Game finished. Reward: 1.0... POSITIVE REWARD!\n",
            "Episode 0: Game finished. Reward: -1.0...\n",
            "Episode 0: Game finished. Reward: -1.0...\n",
            "Episode 0: Game finished. Reward: -1.0...\n",
            "Episode 0: Game finished. Reward: 1.0... POSITIVE REWARD!\n",
            "Episode 0: Game finished. Reward: -1.0...\n",
            "Episode 0: Game finished. Reward: -1.0...\n",
            "Resetting the Pong environment. Episode total reward: -19.0 Running mean: -20.9602\n",
            "Episode 1: Game finished. Reward: -1.0...\n",
            "Episode 1: Game finished. Reward: -1.0...\n",
            "Episode 1: Game finished. Reward: -1.0...\n",
            "Episode 1: Game finished. Reward: -1.0...\n",
            "Episode 1: Game finished. Reward: -1.0...\n",
            "Episode 1: Game finished. Reward: -1.0...\n",
            "Episode 1: Game finished. Reward: -1.0...\n",
            "Episode 1: Game finished. Reward: -1.0...\n",
            "Episode 1: Game finished. Reward: -1.0...\n",
            "Episode 1: Game finished. Reward: -1.0...\n",
            "Episode 1: Game finished. Reward: -1.0...\n",
            "Episode 1: Game finished. Reward: -1.0...\n",
            "Episode 1: Game finished. Reward: -1.0...\n",
            "Episode 1: Game finished. Reward: -1.0...\n",
            "Episode 1: Game finished. Reward: -1.0...\n",
            "Episode 1: Game finished. Reward: -1.0...\n",
            "Episode 1: Game finished. Reward: -1.0...\n",
            "Episode 1: Game finished. Reward: -1.0...\n",
            "Episode 1: Game finished. Reward: -1.0...\n",
            "Episode 1: Game finished. Reward: -1.0...\n",
            "Episode 1: Game finished. Reward: -1.0...\n",
            "Resetting the Pong environment. Episode total reward: -21.0 Running mean: -20.960598\n",
            "Episode 2: Game finished. Reward: -1.0...\n",
            "Episode 2: Game finished. Reward: -1.0...\n",
            "Episode 2: Game finished. Reward: -1.0...\n",
            "Episode 2: Game finished. Reward: -1.0...\n",
            "Episode 2: Game finished. Reward: -1.0...\n",
            "Episode 2: Game finished. Reward: -1.0...\n",
            "Episode 2: Game finished. Reward: -1.0...\n",
            "Episode 2: Game finished. Reward: -1.0...\n",
            "Episode 2: Game finished. Reward: -1.0...\n",
            "Episode 2: Game finished. Reward: -1.0...\n",
            "Episode 2: Game finished. Reward: -1.0...\n",
            "Episode 2: Game finished. Reward: -1.0...\n",
            "Episode 2: Game finished. Reward: -1.0...\n",
            "Episode 2: Game finished. Reward: -1.0...\n",
            "Episode 2: Game finished. Reward: -1.0...\n",
            "Episode 2: Game finished. Reward: -1.0...\n",
            "Episode 2: Game finished. Reward: -1.0...\n",
            "Episode 2: Game finished. Reward: -1.0...\n",
            "Episode 2: Game finished. Reward: -1.0...\n",
            "Episode 2: Game finished. Reward: -1.0...\n",
            "Episode 2: Game finished. Reward: -1.0...\n",
            "Resetting the Pong environment. Episode total reward: -21.0 Running mean: -20.960992020000003\n",
            "Episode 3: Game finished. Reward: -1.0...\n"
          ]
        }
      ]
    },
    {
      "cell_type": "code",
      "source": [
        "# Install Xvfb and X11 dependencies.\n",
        "!apt-get install -y xvfb x11-utils > /dev/null 2>&1\n",
        "# To work with videos, install FFmpeg.\n",
        "!apt-get install -y ffmpeg > /dev/null 2>&1\n",
        "# Install PyVirtualDisplay for visual feedback and other libraries/dependencies.\n",
        "!pip install pyvirtualdisplay PyOpenGL PyOpenGL-accelerate > /dev/null 2>&1"
      ],
      "metadata": {
        "id": "s-SToundoO79"
      },
      "execution_count": null,
      "outputs": []
    },
    {
      "cell_type": "code",
      "source": [
        "# Import the virtual display module.\n",
        "from pyvirtualdisplay import Display\n",
        "# Import ipythondisplay and HTML from IPython for image and video rendering.\n",
        "from IPython import display as ipythondisplay\n",
        "from IPython.display import HTML\n",
        "\n",
        "# Initialize the virtual buffer at 400x300 (adjustable size).\n",
        "# With Xvfb, you should set `visible=False`.\n",
        "display = Display(visible=False, size=(400, 300))\n",
        "display.start()\n",
        "\n",
        "# Check that no display is present.\n",
        "# If no displays are present, the expected output is `:0`.\n",
        "!echo $DISPLAY\n",
        "\n",
        "# Define a helper function to display videos in Jupyter notebooks:.\n",
        "# (Source: https://star-ai.github.io/Rendering-OpenAi-Gym-in-Colaboratory/)\n",
        "\n",
        "import sys\n",
        "import math\n",
        "import glob\n",
        "import io\n",
        "import base64\n",
        "\n",
        "def show_any_video(mp4video=0):\n",
        "    mp4list = glob.glob('video/*.mp4')\n",
        "    if len(mp4list) > 0:\n",
        "        mp4 = mp4list[mp4video]\n",
        "        video = io.open(mp4, 'r+b').read()\n",
        "        encoded = base64.b64encode(video)\n",
        "        ipythondisplay.display(HTML(data='''<video alt=\"test\" autoplay\n",
        "                                            loop controls style=\"height: 400px;\">\n",
        "                                            <source src=\"data:video/mp4;base64,{0}\" type=\"video/mp4\" />\n",
        "                                            </video>'''.format(encoded.decode('ascii'))))\n",
        "\n",
        "    else:\n",
        "        print('Could not find the video!')\n"
      ],
      "metadata": {
        "colab": {
          "base_uri": "https://localhost:8080/"
        },
        "id": "O7LE_iqQ7_WE",
        "outputId": "cb10dcb4-e530-4203-a400-b464b15883d4"
      },
      "execution_count": null,
      "outputs": [
        {
          "output_type": "stream",
          "name": "stdout",
          "text": [
            ":1\n"
          ]
        }
      ]
    },
    {
      "cell_type": "code",
      "source": [
        "show_any_video(-1)"
      ],
      "metadata": {
        "colab": {
          "base_uri": "https://localhost:8080/"
        },
        "id": "5fjhPmyW8Fbl",
        "outputId": "78a9ea71-16f8-4c78-d63d-a2913b8ec2c9"
      },
      "execution_count": null,
      "outputs": [
        {
          "output_type": "stream",
          "name": "stdout",
          "text": [
            "Could not find the video!\n"
          ]
        }
      ]
    },
    {
      "cell_type": "code",
      "source": [],
      "metadata": {
        "id": "8mpdQTU08Ft2"
      },
      "execution_count": null,
      "outputs": []
    }
  ]
}